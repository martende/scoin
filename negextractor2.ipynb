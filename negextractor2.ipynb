{
 "cells": [
  {
   "cell_type": "code",
   "execution_count": 2,
   "metadata": {},
   "outputs": [
    {
     "name": "stdout",
     "output_type": "stream",
     "text": [
      "Tensorflow version: 2.8.0-dev20211015\n",
      "GPU detected: []\n"
     ]
    }
   ],
   "source": [
    "%matplotlib inline\n",
    "import matplotlib.pyplot as plt\n",
    "import pandas as pd\n",
    "import numpy as np\n",
    "np.random.seed(0)\n",
    "plt.style.use(\"ggplot\")\n",
    "\n",
    "import tensorflow as tf\n",
    "print('Tensorflow version:', tf.__version__)\n",
    "print('GPU detected:', tf.config.list_physical_devices('GPU'))"
   ]
  },
  {
   "cell_type": "code",
   "execution_count": 12,
   "metadata": {},
   "outputs": [],
   "source": [
    "from pymongo import MongoClient\n",
    "from bson.objectid import ObjectId\n",
    "import spacy\n",
    "\n",
    "db = MongoClient()['scoin2']\n",
    "\n",
    "def findTokens(doc,manualCodes):\n",
    "    #print (manualCodes)\n",
    "    ret = []\n",
    "    for i,token in enumerate(doc):\n",
    "        ts = token.idx\n",
    "        \n",
    "        te = ts + len(token.text)\n",
    "        \n",
    "        codes = []\n",
    "        for mc in manualCodes:\n",
    "            ms,me = mc['i0'],mc['i1']\n",
    "            if aIncludes(ms,me,ts,te):\n",
    "                codes.append((mc['code'],True))\n",
    "            elif intersects(ms,me,ts,te):\n",
    "                codes.append((mc['code'],False))\n",
    "        #print(token.text,ts,te,codes)\n",
    "        if len(codes) > 0:\n",
    "            ret.append((token.text,codes[0][0]))\n",
    "        else:\n",
    "            ret.append((token.text,'-'))\n",
    "    return ret\n",
    "\n",
    "def mkSamples(items):\n",
    "    items = list(items)\n",
    "    chars = {}\n",
    "    print(\"Found %i items\" % len(items))\n",
    "    ret = []\n",
    "    meta = []\n",
    "    for itm in items:\n",
    "        oid = itm['_id']\n",
    "        desc = itm['desc']\n",
    "        manualCodes = itm['manualCodes']\n",
    "        \n",
    "        sample = []\n",
    "        for i,c in enumerate(desc):\n",
    "            chars[c] = 1\n",
    "            codes = []\n",
    "            for mc in manualCodes:\n",
    "                if i == mc['i0']:\n",
    "                    codes.append(\"B-\"+mc['code'])\n",
    "                elif i > mc['i0'] and i < mc['i1']:\n",
    "                    codes.append(\"I-\"+mc['code'])\n",
    "            \n",
    "            if len(codes) == 0 :\n",
    "                codes = ['-']\n",
    "            \n",
    "            sample.append((c,codes[0]))\n",
    "            \n",
    "        ret.append(sample)\n",
    "        meta.append({'oid':oid})\n",
    "    return set(chars),ret,meta\n",
    "\n",
    "def windowsamples(samples,ml,meta):\n",
    "    ret = []\n",
    "    newmeta = []\n",
    "    for si,s in enumerate(samples):\n",
    "        if len(s) < ml:\n",
    "            ret.append(s)\n",
    "            newmeta.append({'oid':meta[si]['oid'],'i':0})\n",
    "        else:\n",
    "            for i in range(0,len(s),int(ml/2)):\n",
    "                tp = s[i:i+ml]\n",
    "                if len(tp) > ml/2:\n",
    "                    ret.append(tp)\n",
    "                    newmeta.append({'oid':meta[si]['oid'],'i':i})\n",
    "                    \n",
    "    return ret,newmeta"
   ]
  },
  {
   "cell_type": "code",
   "execution_count": 4,
   "metadata": {},
   "outputs": [
    {
     "name": "stdout",
     "output_type": "stream",
     "text": [
      "Found 535 items\n"
     ]
    }
   ],
   "source": [
    "chars,samples,meta = mkSamples(db.items.find({\n",
    "    \"manualCodes.code\" : {\"$eq\" : \"ric\"} ,\n",
    "#    \"manualCodes.code\" : {\"$exists\" : True} ,\n",
    "#    \"_id\" : ObjectId(\"56595eda60b26abea2d919f0\")\n",
    "    }))\n",
    "#chars,samples\n",
    "\n",
    "tags = sorted({tag for sentence in samples for _, tag in sentence})\n",
    "tag2idx = {tag: index for index, tag in enumerate(tags)}\n",
    "word2idx = {w : index for index,w in enumerate(sorted(chars))}\n",
    "idx2word = {index : w for index,w in enumerate(sorted(chars))}"
   ]
  },
  {
   "cell_type": "code",
   "execution_count": 5,
   "metadata": {},
   "outputs": [],
   "source": [
    "num_tags = len(tags)\n",
    "num_words = len(chars)"
   ]
  },
  {
   "cell_type": "code",
   "execution_count": 10,
   "metadata": {},
   "outputs": [
    {
     "data": {
      "image/png": "[encoded data removed]",
      "text/plain": [
       "<Figure size 432x288 with 1 Axes>"
      ]
     },
     "metadata": {},
     "output_type": "display_data"
    }
   ],
   "source": [
    "plt.hist([len(s) for s in samples],bins=50);"
   ]
  },
  {
   "cell_type": "code",
   "execution_count": 8,
   "metadata": {},
   "outputs": [],
   "source": [
    "MAX_LEN = 100\n",
    "\n",
    "window_samples,window_meta = windowsamples(samples,MAX_LEN,meta)"
   ]
  },
  {
   "cell_type": "code",
   "execution_count": 14,
   "metadata": {},
   "outputs": [],
   "source": [
    "EMB_DIM = MAX_LEN\n",
    "\n",
    "from tensorflow.keras.utils import to_categorical\n",
    "\n",
    "def preprocess(samples):\n",
    "    X = np.zeros((len(samples), MAX_LEN), dtype=np.float32)\n",
    "    y = np.zeros((len(samples), MAX_LEN), dtype=np.uint8)\n",
    "    for i, sentence in enumerate(samples):\n",
    "        for j, (token, tag) in enumerate(sentence[:MAX_LEN]):\n",
    "            X[i,j] = word2idx[token]\n",
    "            y[i,j] = tag2idx[tag]\n",
    "\n",
    "    y = np.array([ to_categorical(i,num_classes=num_tags) for i in y ]) \n",
    "    \n",
    "    return X, y\n",
    "\n",
    "X, y = preprocess(window_samples)"
   ]
  },
  {
   "cell_type": "code",
   "execution_count": 16,
   "metadata": {},
   "outputs": [
    {
     "data": {
      "text/plain": [
       "((4, 100), (4, 100, 37))"
      ]
     },
     "execution_count": 16,
     "metadata": {},
     "output_type": "execute_result"
    }
   ],
   "source": [
    "X.shape,y.shape"
   ]
  },
  {
   "cell_type": "code",
   "execution_count": 17,
   "metadata": {},
   "outputs": [],
   "source": [
    "from sklearn.model_selection import train_test_split\n",
    "\n",
    "x_train,x_test,y_train,y_test = train_test_split(X,y,test_size=0.1,random_state=1)"
   ]
  },
  {
   "cell_type": "code",
   "execution_count": 18,
   "metadata": {},
   "outputs": [],
   "source": [
    "from tensorflow.keras import Input,Model\n",
    "from tensorflow.keras.layers import Embedding,SpatialDropout1D,Bidirectional,LSTM,TimeDistributed,Dense\n",
    "\n",
    "input_word = Input(shape=(MAX_LEN,))\n",
    "model = Embedding(input_dim = num_words,output_dim=MAX_LEN,input_length=MAX_LEN)(input_word)"
   ]
  },
  {
   "cell_type": "code",
   "execution_count": 19,
   "metadata": {},
   "outputs": [],
   "source": [
    "model = SpatialDropout1D(0.1)(model)"
   ]
  },
  {
   "cell_type": "code",
   "execution_count": 20,
   "metadata": {},
   "outputs": [
    {
     "name": "stdout",
     "output_type": "stream",
     "text": [
      "WARNING:tensorflow:Layer lstm will not use cuDNN kernels since it doesn't meet the criteria. It will use a generic GPU kernel as fallback when running on GPU.\n",
      "WARNING:tensorflow:Layer lstm will not use cuDNN kernels since it doesn't meet the criteria. It will use a generic GPU kernel as fallback when running on GPU.\n",
      "WARNING:tensorflow:Layer lstm will not use cuDNN kernels since it doesn't meet the criteria. It will use a generic GPU kernel as fallback when running on GPU.\n"
     ]
    }
   ],
   "source": [
    "model = Bidirectional(LSTM(units = 100,return_sequences=True,recurrent_dropout=0.1))(model)"
   ]
  },
  {
   "cell_type": "code",
   "execution_count": 21,
   "metadata": {},
   "outputs": [],
   "source": [
    "out = TimeDistributed(Dense(num_tags,activation='softmax'))(model)"
   ]
  },
  {
   "cell_type": "code",
   "execution_count": 22,
   "metadata": {},
   "outputs": [],
   "source": [
    "model = Model(input_word,out)"
   ]
  },
  {
   "cell_type": "code",
   "execution_count": 23,
   "metadata": {},
   "outputs": [
    {
     "name": "stdout",
     "output_type": "stream",
     "text": [
      "Model: \"model\"\n",
      "_________________________________________________________________\n",
      " Layer (type)                Output Shape              Param #   \n",
      "=================================================================\n",
      " input_1 (InputLayer)        [(None, 100)]             0         \n",
      "                                                                 \n",
      " embedding (Embedding)       (None, 100, 100)          12500     \n",
      "                                                                 \n",
      " spatial_dropout1d (SpatialD  (None, 100, 100)         0         \n",
      " ropout1D)                                                       \n",
      "                                                                 \n",
      " bidirectional (Bidirectiona  (None, 100, 200)         160800    \n",
      " l)                                                              \n",
      "                                                                 \n",
      " time_distributed (TimeDistr  (None, 100, 37)          7437      \n",
      " ibuted)                                                         \n",
      "                                                                 \n",
      "=================================================================\n",
      "Total params: 180,737\n",
      "Trainable params: 180,737\n",
      "Non-trainable params: 0\n",
      "_________________________________________________________________\n"
     ]
    }
   ],
   "source": [
    "model.summary()"
   ]
  },
  {
   "cell_type": "code",
   "execution_count": 24,
   "metadata": {},
   "outputs": [],
   "source": [
    "model.compile(optimizer='adam',loss='categorical_crossentropy',metrics=['accuracy'])"
   ]
  },
  {
   "cell_type": "code",
   "execution_count": 25,
   "metadata": {},
   "outputs": [],
   "source": [
    "from tensorflow.keras.callbacks import ModelCheckpoint,EarlyStopping\n",
    "from livelossplot.tf_keras import PlotLossesCallback"
   ]
  },
  {
   "cell_type": "code",
   "execution_count": 26,
   "metadata": {},
   "outputs": [],
   "source": [
    "early_stopping = EarlyStopping(monitor='val_accuracy',patience=1,verbose=0,mode='max',restore_best_weights=False)"
   ]
  },
  {
   "cell_type": "code",
   "execution_count": 27,
   "metadata": {
    "scrolled": true
   },
   "outputs": [
    {
     "name": "stdout",
     "output_type": "stream",
     "text": [
      "Sun Oct 24 20:46:02 2021       \r\n",
      "+-----------------------------------------------------------------------------+\r\n",
      "| NVIDIA-SMI 460.91.03    Driver Version: 460.91.03    CUDA Version: 11.2     |\r\n",
      "|-------------------------------+----------------------+----------------------+\r\n",
      "| GPU  Name        Persistence-M| Bus-Id        Disp.A | Volatile Uncorr. ECC |\r\n",
      "| Fan  Temp  Perf  Pwr:Usage/Cap|         Memory-Usage | GPU-Util  Compute M. |\r\n",
      "|                               |                      |               MIG M. |\r\n",
      "|===============================+======================+======================|\r\n",
      "|   0  GeForce GTX 165...  Off  | 00000000:01:00.0 Off |                  N/A |\r\n",
      "| N/A   47C    P0    16W /  N/A |   2866MiB /  3914MiB |      0%      Default |\r\n",
      "|                               |                      |                  N/A |\r\n",
      "+-------------------------------+----------------------+----------------------+\r\n",
      "                                                                               \r\n",
      "+-----------------------------------------------------------------------------+\r\n",
      "| Processes:                                                                  |\r\n",
      "|  GPU   GI   CI        PID   Type   Process name                  GPU Memory |\r\n",
      "|        ID   ID                                                   Usage      |\r\n",
      "|=============================================================================|\r\n",
      "+-----------------------------------------------------------------------------+\r\n"
     ]
    }
   ],
   "source": [
    "! nvidia-smi"
   ]
  },
  {
   "cell_type": "code",
   "execution_count": 28,
   "metadata": {},
   "outputs": [
    {
     "data": {
      "text/plain": [
       "((2413, 100), (2413, 100, 37))"
      ]
     },
     "execution_count": 28,
     "metadata": {},
     "output_type": "execute_result"
    }
   ],
   "source": [
    "x_train.shape,y_train.shape"
   ]
  },
  {
   "cell_type": "code",
   "execution_count": 31,
   "metadata": {},
   "outputs": [
    {
     "data": {
      "image/png": "[encoded data removed]",
      "text/plain": [
       "<Figure size 864x576 with 2 Axes>"
      ]
     },
     "metadata": {},
     "output_type": "display_data"
    },
    {
     "name": "stdout",
     "output_type": "stream",
     "text": [
      "accuracy\n",
      "\ttraining         \t (min:    0.937, max:    0.970, cur:    0.970)\n",
      "\tvalidation       \t (min:    0.946, max:    0.980, cur:    0.980)\n",
      "Loss\n",
      "\ttraining         \t (min:    0.139, max:    0.310, cur:    0.139)\n",
      "\tvalidation       \t (min:    0.097, max:    0.238, cur:    0.097)\n",
      "\n",
      "Epoch 00010: val_loss improved from 0.10205 to 0.09714, saving model to negextractor2.h5\n",
      "61/61 [==============================] - 27s 444ms/step - loss: 0.1388 - accuracy: 0.9696 - val_loss: 0.0971 - val_accuracy: 0.9797\n",
      "CPU times: user 7min 28s, sys: 45.1 s, total: 8min 13s\n",
      "Wall time: 3min 47s\n"
     ]
    }
   ],
   "source": [
    "%%time\n",
    "\n",
    "chkpt = ModelCheckpoint(\"negextractor2.h5\", monitor='val_loss',verbose=1, save_best_only=True, save_weights_only=True, mode='min')\n",
    "\n",
    "early_stopping = EarlyStopping(monitor='val_accuracy', min_delta=0, patience=1, verbose=0, mode='max', baseline=None, restore_best_weights=False)\n",
    "\n",
    "callbacks = [PlotLossesCallback(), chkpt,\n",
    "            # early_stopping\n",
    "            ]\n",
    "\n",
    "history = model.fit(\n",
    "    x_train,y_train,\n",
    "    validation_split=0.2,\n",
    "    batch_size = 32,\n",
    "    epochs=10,\n",
    "    callbacks=callbacks,\n",
    "    verbose=1\n",
    ")"
   ]
  },
  {
   "cell_type": "code",
   "execution_count": 32,
   "metadata": {},
   "outputs": [
    {
     "name": "stdout",
     "output_type": "stream",
     "text": [
      "9/9 [==============================] - 1s 53ms/step - loss: 0.1275 - accuracy: 0.9704\n"
     ]
    },
    {
     "data": {
      "text/plain": [
       "[0.12754936516284943, 0.9703717231750488]"
      ]
     },
     "execution_count": 32,
     "metadata": {},
     "output_type": "execute_result"
    }
   ],
   "source": [
    "model.evaluate(x_test,np.array(y_test))"
   ]
  },
  {
   "cell_type": "code",
   "execution_count": null,
   "metadata": {},
   "outputs": [],
   "source": [
    "i = np.random.randint(0,x_test.shape[0])\n",
    "p = model.predict(np.array([x_test[i]]))\n",
    "p = np.argmax(p,axis=-1)\n",
    "y_true = np.argmax(np.array(y_test),axis=-1)[i]\n",
    "\n",
    "print(\"{:15}{:5}\\t{}\".format(\"Word\",\"True\",\"Pred\"))\n",
    "print(\"-\"*30)\n",
    "for w,true ,pred in zip(x_test[i],y_true,p[0]):\n",
    "    print(\"{:15}{}\\t{}\".format(idx2word[w],tags[true],tags[pred]))\n"
   ]
  },
  {
   "cell_type": "code",
   "execution_count": 17,
   "metadata": {},
   "outputs": [
    {
     "name": "stdout",
     "output_type": "stream",
     "text": [
      "Found 1 items\n"
     ]
    },
    {
     "data": {
      "text/plain": [
       "array([[41., 50., 32., 38., 50., 48.,  1., 51., 34., 47., 50., 48.,  1.,\n",
       "         8., 17., 22., 17., 13., 17., 22., 25.,  9., 14.,  1., 33., 62.,\n",
       "        71., 58., 75., 66., 78., 76., 14.,  1., 47., 72., 70., 62., 14.,\n",
       "         1., 44., 59., 79., 26.,  1., 41.,  1., 51., 34., 47., 51., 48.,\n",
       "         1., 30., 51., 36.,  1., 30., 47., 42.,  1., 45., 30., 47., 49.,\n",
       "        37.,  1., 42., 30., 53., 14.,  1., 41., 58., 78., 75., 62., 58.,\n",
       "        77., 62.,  1., 65., 62., 58., 61.,  1., 75., 66., 64., 65., 77.,\n",
       "        14.,  1., 47., 62., 79., 26.,  1., 49., 47.],\n",
       "       [51., 48.,  1., 30., 51., 36.,  1., 30., 47., 42.,  1., 45., 30.,\n",
       "        47., 49., 37.,  1., 42., 30., 53., 14.,  1., 41., 58., 78., 75.,\n",
       "        62., 58., 77., 62.,  1., 65., 62., 58., 61.,  1., 75., 66., 64.,\n",
       "        65., 77., 14.,  1., 47., 62., 79., 26.,  1., 49., 47.,  1., 45.,\n",
       "         1., 51., 38.,  1., 38., 42., 45.,  1., 38., 38., 38., 38.,  1.,\n",
       "        32., 44., 48.,  1., 38., 38.,  1., 15.,  1., 45., 30., 53., 14.,\n",
       "         1., 45., 58., 81.,  1., 76., 77., 58., 71., 61., 66., 71., 64.,\n",
       "         1., 69., 62., 63., 77., 12.,  1., 65., 72.],\n",
       "       [ 1., 45.,  1., 51., 38.,  1., 38., 42., 45.,  1., 38., 38., 38.,\n",
       "        38.,  1., 32., 44., 48.,  1., 38., 38.,  1., 15.,  1., 45., 30.,\n",
       "        53., 14.,  1., 45., 58., 81.,  1., 76., 77., 58., 71., 61., 66.,\n",
       "        71., 64.,  1., 69., 62., 63., 77., 12.,  1., 65., 72., 69., 61.,\n",
       "        66., 71., 64.,  1., 59., 75., 58., 71., 60., 65.,  1., 58., 71.,\n",
       "        61.,  1., 60., 72., 75., 71., 78., 60., 72., 73., 66., 58., 14.,\n",
       "         1., 47., 38., 32.,  1., 21., 22., 17., 14.,  1., 32., 72., 71.,\n",
       "        61., 66., 77., 66., 72., 71., 26.,  1., 34.],\n",
       "       [69., 61., 66., 71., 64.,  1., 59., 75., 58., 71., 60., 65.,  1.,\n",
       "        58., 71., 61.,  1., 60., 72., 75., 71., 78., 60., 72., 73., 66.,\n",
       "        58., 14.,  1., 47., 38., 32.,  1., 21., 22., 17., 14.,  1., 32.,\n",
       "        72., 71., 61., 66., 77., 66., 72., 71., 26.,  1., 34., 81., 77.,\n",
       "        75., 62., 70., 62., 69., 82.,  1., 63., 66., 71., 62., 14.,  1.,\n",
       "        52., 62., 66., 64., 65., 77., 26.,  1., 19., 14., 20., 21.,  1.,\n",
       "        64., 14.,  1., 33., 66., 58., 70., 62., 77., 62., 75., 26.,  1.,\n",
       "        17., 25.,  1., 70., 70., 14.,  0.,  0.,  0.]], dtype=float32)"
      ]
     },
     "execution_count": 17,
     "metadata": {},
     "output_type": "execute_result"
    }
   ],
   "source": [
    "_,samples,meta = mkSamples(db.items.find({\n",
    "#    \"manualCodes.code\" : {\"$eq\" : \"ric\"} ,\n",
    "#    \"manualCodes.code\" : {\"$exists\" : True} ,\n",
    "    \"_id\" : ObjectId(\"5659531960b242bb401d45ac\")\n",
    "    }))\n",
    "\n",
    "\n",
    "window_samples,window_meta = windowsamples(samples,MAX_LEN,meta)\n",
    "\n",
    "X, y = preprocess(window_samples)\n",
    "\n",
    "X"
   ]
  }
 ],
 "metadata": {
  "kernelspec": {
   "display_name": "Python 3",
   "language": "python",
   "name": "python3"
  },
  "language_info": {
   "codemirror_mode": {
    "name": "ipython",
    "version": 3
   },
   "file_extension": ".py",
   "mimetype": "text/x-python",
   "name": "python",
   "nbconvert_exporter": "python",
   "pygments_lexer": "ipython3",
   "version": "3.8.10"
  }
 },
 "nbformat": 4,
 "nbformat_minor": 2
}
